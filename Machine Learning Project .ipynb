{
 "cells": [
  {
   "cell_type": "markdown",
   "metadata": {},
   "source": [
    "# Machine Learning Final Project"
   ]
  },
  {
   "cell_type": "markdown",
   "metadata": {},
   "source": [
    "Initial Research:\n",
    "\n",
    "Cryptocurrency is a digital currency that can be used online to purchase goods and services. It is being heralded as the currency of the future and is especially popular because of its security and the decentralization of central banks from controlling the money supply. \n",
    "\n",
    "Purpose & Aim:\n",
    "\n",
    "While I don’t know much about cryptocurrency (I know nothing really), I think this is a great place to start learning! I would like this project to look at different types of cryptocurrencies beyond the ones that are most notable and aim to understand some of the complexities of trading decisions– what factors should be considered and how accurately can predictions be made. My hope is that through this project I will be able to immerse myself in the world of cryptocurrency and gain a greater sense of it. \n"
   ]
  },
  {
   "cell_type": "code",
   "execution_count": 4,
   "metadata": {},
   "outputs": [
    {
     "data": {
      "text/html": [
       "<div>\n",
       "<style scoped>\n",
       "    .dataframe tbody tr th:only-of-type {\n",
       "        vertical-align: middle;\n",
       "    }\n",
       "\n",
       "    .dataframe tbody tr th {\n",
       "        vertical-align: top;\n",
       "    }\n",
       "\n",
       "    .dataframe thead th {\n",
       "        text-align: right;\n",
       "    }\n",
       "</style>\n",
       "<table border=\"1\" class=\"dataframe\">\n",
       "  <thead>\n",
       "    <tr style=\"text-align: right;\">\n",
       "      <th></th>\n",
       "      <th>SNo</th>\n",
       "      <th>Name</th>\n",
       "      <th>Symbol</th>\n",
       "      <th>Date</th>\n",
       "      <th>High</th>\n",
       "      <th>Low</th>\n",
       "      <th>Open</th>\n",
       "      <th>Close</th>\n",
       "      <th>Volume</th>\n",
       "      <th>Marketcap</th>\n",
       "    </tr>\n",
       "  </thead>\n",
       "  <tbody>\n",
       "    <tr>\n",
       "      <th>0</th>\n",
       "      <td>1</td>\n",
       "      <td>Aave</td>\n",
       "      <td>AAVE</td>\n",
       "      <td>2020-10-05 23:59:59</td>\n",
       "      <td>55.112358</td>\n",
       "      <td>49.787900</td>\n",
       "      <td>52.675035</td>\n",
       "      <td>53.219243</td>\n",
       "      <td>0.000000e+00</td>\n",
       "      <td>8.912813e+07</td>\n",
       "    </tr>\n",
       "    <tr>\n",
       "      <th>1</th>\n",
       "      <td>2</td>\n",
       "      <td>Aave</td>\n",
       "      <td>AAVE</td>\n",
       "      <td>2020-10-06 23:59:59</td>\n",
       "      <td>53.402270</td>\n",
       "      <td>40.734578</td>\n",
       "      <td>53.291969</td>\n",
       "      <td>42.401599</td>\n",
       "      <td>5.830915e+05</td>\n",
       "      <td>7.101144e+07</td>\n",
       "    </tr>\n",
       "    <tr>\n",
       "      <th>2</th>\n",
       "      <td>3</td>\n",
       "      <td>Aave</td>\n",
       "      <td>AAVE</td>\n",
       "      <td>2020-10-07 23:59:59</td>\n",
       "      <td>42.408314</td>\n",
       "      <td>35.970690</td>\n",
       "      <td>42.399947</td>\n",
       "      <td>40.083976</td>\n",
       "      <td>6.828342e+05</td>\n",
       "      <td>6.713004e+07</td>\n",
       "    </tr>\n",
       "    <tr>\n",
       "      <th>3</th>\n",
       "      <td>4</td>\n",
       "      <td>Aave</td>\n",
       "      <td>AAVE</td>\n",
       "      <td>2020-10-08 23:59:59</td>\n",
       "      <td>44.902511</td>\n",
       "      <td>36.696057</td>\n",
       "      <td>39.885262</td>\n",
       "      <td>43.764463</td>\n",
       "      <td>1.658817e+06</td>\n",
       "      <td>2.202651e+08</td>\n",
       "    </tr>\n",
       "    <tr>\n",
       "      <th>4</th>\n",
       "      <td>5</td>\n",
       "      <td>Aave</td>\n",
       "      <td>AAVE</td>\n",
       "      <td>2020-10-09 23:59:59</td>\n",
       "      <td>47.569533</td>\n",
       "      <td>43.291776</td>\n",
       "      <td>43.764463</td>\n",
       "      <td>46.817744</td>\n",
       "      <td>8.155377e+05</td>\n",
       "      <td>2.356322e+08</td>\n",
       "    </tr>\n",
       "    <tr>\n",
       "      <th>...</th>\n",
       "      <td>...</td>\n",
       "      <td>...</td>\n",
       "      <td>...</td>\n",
       "      <td>...</td>\n",
       "      <td>...</td>\n",
       "      <td>...</td>\n",
       "      <td>...</td>\n",
       "      <td>...</td>\n",
       "      <td>...</td>\n",
       "      <td>...</td>\n",
       "    </tr>\n",
       "    <tr>\n",
       "      <th>270</th>\n",
       "      <td>271</td>\n",
       "      <td>Aave</td>\n",
       "      <td>AAVE</td>\n",
       "      <td>2021-07-02 23:59:59</td>\n",
       "      <td>234.483957</td>\n",
       "      <td>215.951539</td>\n",
       "      <td>230.814119</td>\n",
       "      <td>233.948437</td>\n",
       "      <td>2.566395e+08</td>\n",
       "      <td>3.001542e+09</td>\n",
       "    </tr>\n",
       "    <tr>\n",
       "      <th>271</th>\n",
       "      <td>272</td>\n",
       "      <td>Aave</td>\n",
       "      <td>AAVE</td>\n",
       "      <td>2021-07-03 23:59:59</td>\n",
       "      <td>265.107342</td>\n",
       "      <td>228.485206</td>\n",
       "      <td>234.208478</td>\n",
       "      <td>259.655225</td>\n",
       "      <td>3.853778e+08</td>\n",
       "      <td>3.331546e+09</td>\n",
       "    </tr>\n",
       "    <tr>\n",
       "      <th>272</th>\n",
       "      <td>273</td>\n",
       "      <td>Aave</td>\n",
       "      <td>AAVE</td>\n",
       "      <td>2021-07-04 23:59:59</td>\n",
       "      <td>289.001124</td>\n",
       "      <td>248.285491</td>\n",
       "      <td>259.399426</td>\n",
       "      <td>277.038792</td>\n",
       "      <td>4.275719e+08</td>\n",
       "      <td>3.555054e+09</td>\n",
       "    </tr>\n",
       "    <tr>\n",
       "      <th>273</th>\n",
       "      <td>274</td>\n",
       "      <td>Aave</td>\n",
       "      <td>AAVE</td>\n",
       "      <td>2021-07-05 23:59:59</td>\n",
       "      <td>317.387234</td>\n",
       "      <td>263.433881</td>\n",
       "      <td>277.110533</td>\n",
       "      <td>307.829079</td>\n",
       "      <td>7.931409e+08</td>\n",
       "      <td>3.950269e+09</td>\n",
       "    </tr>\n",
       "    <tr>\n",
       "      <th>274</th>\n",
       "      <td>275</td>\n",
       "      <td>Aave</td>\n",
       "      <td>AAVE</td>\n",
       "      <td>2021-07-06 23:59:59</td>\n",
       "      <td>346.714780</td>\n",
       "      <td>307.997525</td>\n",
       "      <td>307.997525</td>\n",
       "      <td>316.898507</td>\n",
       "      <td>9.887055e+08</td>\n",
       "      <td>4.066776e+09</td>\n",
       "    </tr>\n",
       "  </tbody>\n",
       "</table>\n",
       "<p>275 rows × 10 columns</p>\n",
       "</div>"
      ],
      "text/plain": [
       "     SNo  Name Symbol                 Date        High         Low  \\\n",
       "0      1  Aave   AAVE  2020-10-05 23:59:59   55.112358   49.787900   \n",
       "1      2  Aave   AAVE  2020-10-06 23:59:59   53.402270   40.734578   \n",
       "2      3  Aave   AAVE  2020-10-07 23:59:59   42.408314   35.970690   \n",
       "3      4  Aave   AAVE  2020-10-08 23:59:59   44.902511   36.696057   \n",
       "4      5  Aave   AAVE  2020-10-09 23:59:59   47.569533   43.291776   \n",
       "..   ...   ...    ...                  ...         ...         ...   \n",
       "270  271  Aave   AAVE  2021-07-02 23:59:59  234.483957  215.951539   \n",
       "271  272  Aave   AAVE  2021-07-03 23:59:59  265.107342  228.485206   \n",
       "272  273  Aave   AAVE  2021-07-04 23:59:59  289.001124  248.285491   \n",
       "273  274  Aave   AAVE  2021-07-05 23:59:59  317.387234  263.433881   \n",
       "274  275  Aave   AAVE  2021-07-06 23:59:59  346.714780  307.997525   \n",
       "\n",
       "           Open       Close        Volume     Marketcap  \n",
       "0     52.675035   53.219243  0.000000e+00  8.912813e+07  \n",
       "1     53.291969   42.401599  5.830915e+05  7.101144e+07  \n",
       "2     42.399947   40.083976  6.828342e+05  6.713004e+07  \n",
       "3     39.885262   43.764463  1.658817e+06  2.202651e+08  \n",
       "4     43.764463   46.817744  8.155377e+05  2.356322e+08  \n",
       "..          ...         ...           ...           ...  \n",
       "270  230.814119  233.948437  2.566395e+08  3.001542e+09  \n",
       "271  234.208478  259.655225  3.853778e+08  3.331546e+09  \n",
       "272  259.399426  277.038792  4.275719e+08  3.555054e+09  \n",
       "273  277.110533  307.829079  7.931409e+08  3.950269e+09  \n",
       "274  307.997525  316.898507  9.887055e+08  4.066776e+09  \n",
       "\n",
       "[275 rows x 10 columns]"
      ]
     },
     "execution_count": 4,
     "metadata": {},
     "output_type": "execute_result"
    }
   ],
   "source": [
    "#Importing of pandas library\n",
    "import pandas as pd\n",
    "\n",
    "#Reading of csv file into notebook and creation of dataframe \n",
    "data = pd.read_csv('coin_Aave.csv')\n",
    "df = pd.DataFrame(data)\n",
    "df"
   ]
  },
  {
   "cell_type": "markdown",
   "metadata": {},
   "source": [
    "## Visualize Data"
   ]
  },
  {
   "cell_type": "code",
   "execution_count": 6,
   "metadata": {},
   "outputs": [
    {
     "data": {
      "text/html": [
       "<div>\n",
       "<style scoped>\n",
       "    .dataframe tbody tr th:only-of-type {\n",
       "        vertical-align: middle;\n",
       "    }\n",
       "\n",
       "    .dataframe tbody tr th {\n",
       "        vertical-align: top;\n",
       "    }\n",
       "\n",
       "    .dataframe thead th {\n",
       "        text-align: right;\n",
       "    }\n",
       "</style>\n",
       "<table border=\"1\" class=\"dataframe\">\n",
       "  <thead>\n",
       "    <tr style=\"text-align: right;\">\n",
       "      <th></th>\n",
       "      <th>SNo</th>\n",
       "      <th>High</th>\n",
       "      <th>Low</th>\n",
       "      <th>Open</th>\n",
       "      <th>Close</th>\n",
       "      <th>Volume</th>\n",
       "      <th>Marketcap</th>\n",
       "    </tr>\n",
       "  </thead>\n",
       "  <tbody>\n",
       "    <tr>\n",
       "      <th>count</th>\n",
       "      <td>275.000000</td>\n",
       "      <td>275.000000</td>\n",
       "      <td>275.000000</td>\n",
       "      <td>275.000000</td>\n",
       "      <td>275.000000</td>\n",
       "      <td>2.750000e+02</td>\n",
       "      <td>2.750000e+02</td>\n",
       "    </tr>\n",
       "    <tr>\n",
       "      <th>mean</th>\n",
       "      <td>138.000000</td>\n",
       "      <td>271.306751</td>\n",
       "      <td>237.736035</td>\n",
       "      <td>254.506688</td>\n",
       "      <td>255.525845</td>\n",
       "      <td>5.023421e+08</td>\n",
       "      <td>3.168639e+09</td>\n",
       "    </tr>\n",
       "    <tr>\n",
       "      <th>std</th>\n",
       "      <td>79.529869</td>\n",
       "      <td>173.030432</td>\n",
       "      <td>151.302431</td>\n",
       "      <td>162.067209</td>\n",
       "      <td>161.649917</td>\n",
       "      <td>4.527200e+08</td>\n",
       "      <td>2.066558e+09</td>\n",
       "    </tr>\n",
       "    <tr>\n",
       "      <th>min</th>\n",
       "      <td>1.000000</td>\n",
       "      <td>28.433069</td>\n",
       "      <td>25.966155</td>\n",
       "      <td>27.715080</td>\n",
       "      <td>27.715084</td>\n",
       "      <td>0.000000e+00</td>\n",
       "      <td>6.713004e+07</td>\n",
       "    </tr>\n",
       "    <tr>\n",
       "      <th>25%</th>\n",
       "      <td>69.500000</td>\n",
       "      <td>85.078206</td>\n",
       "      <td>76.038104</td>\n",
       "      <td>80.557436</td>\n",
       "      <td>81.100120</td>\n",
       "      <td>2.400042e+08</td>\n",
       "      <td>9.736814e+08</td>\n",
       "    </tr>\n",
       "    <tr>\n",
       "      <th>50%</th>\n",
       "      <td>138.000000</td>\n",
       "      <td>306.990536</td>\n",
       "      <td>274.746278</td>\n",
       "      <td>292.268571</td>\n",
       "      <td>295.089229</td>\n",
       "      <td>3.693558e+08</td>\n",
       "      <td>3.697227e+09</td>\n",
       "    </tr>\n",
       "    <tr>\n",
       "      <th>75%</th>\n",
       "      <td>206.500000</td>\n",
       "      <td>407.518278</td>\n",
       "      <td>361.685763</td>\n",
       "      <td>382.275163</td>\n",
       "      <td>382.579255</td>\n",
       "      <td>6.204643e+08</td>\n",
       "      <td>4.784464e+09</td>\n",
       "    </tr>\n",
       "    <tr>\n",
       "      <th>max</th>\n",
       "      <td>275.000000</td>\n",
       "      <td>666.864979</td>\n",
       "      <td>565.749887</td>\n",
       "      <td>629.231666</td>\n",
       "      <td>632.266488</td>\n",
       "      <td>2.838573e+09</td>\n",
       "      <td>8.063210e+09</td>\n",
       "    </tr>\n",
       "  </tbody>\n",
       "</table>\n",
       "</div>"
      ],
      "text/plain": [
       "              SNo        High         Low        Open       Close  \\\n",
       "count  275.000000  275.000000  275.000000  275.000000  275.000000   \n",
       "mean   138.000000  271.306751  237.736035  254.506688  255.525845   \n",
       "std     79.529869  173.030432  151.302431  162.067209  161.649917   \n",
       "min      1.000000   28.433069   25.966155   27.715080   27.715084   \n",
       "25%     69.500000   85.078206   76.038104   80.557436   81.100120   \n",
       "50%    138.000000  306.990536  274.746278  292.268571  295.089229   \n",
       "75%    206.500000  407.518278  361.685763  382.275163  382.579255   \n",
       "max    275.000000  666.864979  565.749887  629.231666  632.266488   \n",
       "\n",
       "             Volume     Marketcap  \n",
       "count  2.750000e+02  2.750000e+02  \n",
       "mean   5.023421e+08  3.168639e+09  \n",
       "std    4.527200e+08  2.066558e+09  \n",
       "min    0.000000e+00  6.713004e+07  \n",
       "25%    2.400042e+08  9.736814e+08  \n",
       "50%    3.693558e+08  3.697227e+09  \n",
       "75%    6.204643e+08  4.784464e+09  \n",
       "max    2.838573e+09  8.063210e+09  "
      ]
     },
     "execution_count": 6,
     "metadata": {},
     "output_type": "execute_result"
    }
   ],
   "source": [
    "df.describe()"
   ]
  },
  {
   "cell_type": "code",
   "execution_count": 10,
   "metadata": {},
   "outputs": [
    {
     "data": {
      "text/plain": [
       "False"
      ]
     },
     "execution_count": 10,
     "metadata": {},
     "output_type": "execute_result"
    }
   ],
   "source": [
    "df.isnull().values.any()"
   ]
  },
  {
   "cell_type": "code",
   "execution_count": 11,
   "metadata": {},
   "outputs": [
    {
     "data": {
      "text/plain": [
       "array([[<AxesSubplot:title={'center':'SNo'}>,\n",
       "        <AxesSubplot:title={'center':'High'}>,\n",
       "        <AxesSubplot:title={'center':'Low'}>],\n",
       "       [<AxesSubplot:title={'center':'Open'}>,\n",
       "        <AxesSubplot:title={'center':'Close'}>,\n",
       "        <AxesSubplot:title={'center':'Volume'}>],\n",
       "       [<AxesSubplot:title={'center':'Marketcap'}>, <AxesSubplot:>,\n",
       "        <AxesSubplot:>]], dtype=object)"
      ]
     },
     "execution_count": 11,
     "metadata": {},
     "output_type": "execute_result"
    },
    {
     "data": {
      "image/png": "[encoded data removed]",
      "text/plain": [
       "<Figure size 432x288 with 9 Axes>"
      ]
     },
     "metadata": {
      "needs_background": "light"
     },
     "output_type": "display_data"
    }
   ],
   "source": [
    "df.hist()"
   ]
  },
  {
   "cell_type": "code",
   "execution_count": 17,
   "metadata": {},
   "outputs": [
    {
     "data": {
      "text/plain": [
       "<matplotlib.collections.PathCollection at 0x11f263940>"
      ]
     },
     "execution_count": 17,
     "metadata": {},
     "output_type": "execute_result"
    },
    {
     "data": {
      "image/png": "[encoded data removed]",
      "text/plain": [
       "<Figure size 432x288 with 1 Axes>"
      ]
     },
     "metadata": {
      "needs_background": "light"
     },
     "output_type": "display_data"
    }
   ],
   "source": [
    "import matplotlib.pyplot as plt\n",
    "plt.scatter(df['Volume'], df['High'])"
   ]
  },
  {
   "cell_type": "code",
   "execution_count": 18,
   "metadata": {},
   "outputs": [
    {
     "data": {
      "text/plain": [
       "<matplotlib.collections.PathCollection at 0x11f2caf70>"
      ]
     },
     "execution_count": 18,
     "metadata": {},
     "output_type": "execute_result"
    },
    {
     "data": {
      "image/png": "[encoded data removed]",
      "text/plain": [
       "<Figure size 432x288 with 1 Axes>"
      ]
     },
     "metadata": {
      "needs_background": "light"
     },
     "output_type": "display_data"
    }
   ],
   "source": [
    "plt.scatter(df['Volume'], df['Low'])"
   ]
  },
  {
   "cell_type": "code",
   "execution_count": 19,
   "metadata": {},
   "outputs": [
    {
     "data": {
      "text/plain": [
       "<matplotlib.collections.PathCollection at 0x11f422e80>"
      ]
     },
     "execution_count": 19,
     "metadata": {},
     "output_type": "execute_result"
    },
    {
     "data": {
      "image/png": "[encoded data removed]",
      "text/plain": [
       "<Figure size 432x288 with 1 Axes>"
      ]
     },
     "metadata": {
      "needs_background": "light"
     },
     "output_type": "display_data"
    }
   ],
   "source": [
    "plt.scatter(df['Date'], df['High'])"
   ]
  },
  {
   "cell_type": "code",
   "execution_count": 20,
   "metadata": {},
   "outputs": [
    {
     "data": {
      "text/plain": [
       "<matplotlib.collections.PathCollection at 0x11f6e4760>"
      ]
     },
     "execution_count": 20,
     "metadata": {},
     "output_type": "execute_result"
    },
    {
     "data": {
      "image/png": "[encoded data removed]",
      "text/plain": [
       "<Figure size 432x288 with 1 Axes>"
      ]
     },
     "metadata": {
      "needs_background": "light"
     },
     "output_type": "display_data"
    }
   ],
   "source": [
    "plt.scatter(df['Date'], df['Low'])"
   ]
  },
  {
   "cell_type": "code",
   "execution_count": 22,
   "metadata": {},
   "outputs": [
    {
     "data": {
      "text/plain": [
       "<matplotlib.collections.PathCollection at 0x11f29cac0>"
      ]
     },
     "execution_count": 22,
     "metadata": {},
     "output_type": "execute_result"
    },
    {
     "data": {
      "image/png": "[encoded data removed]",
      "text/plain": [
       "<Figure size 432x288 with 1 Axes>"
      ]
     },
     "metadata": {
      "needs_background": "light"
     },
     "output_type": "display_data"
    }
   ],
   "source": [
    "plt.scatter(df['Volume'], df['Date'])"
   ]
  },
  {
   "cell_type": "code",
   "execution_count": 9,
   "metadata": {},
   "outputs": [],
   "source": [
    "import numpy as np\n",
    "from sklearn.linear_model import LinearRegression"
   ]
  },
  {
   "cell_type": "code",
   "execution_count": 32,
   "metadata": {},
   "outputs": [
    {
     "ename": "NameError",
     "evalue": "name 'linear_model' is not defined",
     "output_type": "error",
     "traceback": [
      "\u001b[0;31m---------------------------------------------------------------------------\u001b[0m",
      "\u001b[0;31mNameError\u001b[0m                                 Traceback (most recent call last)",
      "\u001b[0;32m<ipython-input-32-ecbe9b8f8b8d>\u001b[0m in \u001b[0;36m<module>\u001b[0;34m\u001b[0m\n\u001b[1;32m      2\u001b[0m \u001b[0my\u001b[0m \u001b[0;34m=\u001b[0m \u001b[0mdf\u001b[0m\u001b[0;34m[\u001b[0m\u001b[0;34m\"Date\"\u001b[0m\u001b[0;34m]\u001b[0m\u001b[0;34m\u001b[0m\u001b[0;34m\u001b[0m\u001b[0m\n\u001b[1;32m      3\u001b[0m \u001b[0;34m\u001b[0m\u001b[0m\n\u001b[0;32m----> 4\u001b[0;31m \u001b[0mlm\u001b[0m \u001b[0;34m=\u001b[0m \u001b[0mlinear_model\u001b[0m\u001b[0;34m.\u001b[0m\u001b[0mLinearRegression\u001b[0m\u001b[0;34m(\u001b[0m\u001b[0;34m)\u001b[0m\u001b[0;34m\u001b[0m\u001b[0;34m\u001b[0m\u001b[0m\n\u001b[0m\u001b[1;32m      5\u001b[0m \u001b[0mmodel\u001b[0m \u001b[0;34m=\u001b[0m \u001b[0mlm\u001b[0m\u001b[0;34m.\u001b[0m\u001b[0mfit\u001b[0m\u001b[0;34m(\u001b[0m\u001b[0mX\u001b[0m\u001b[0;34m,\u001b[0m\u001b[0my\u001b[0m\u001b[0;34m)\u001b[0m\u001b[0;34m\u001b[0m\u001b[0;34m\u001b[0m\u001b[0m\n",
      "\u001b[0;31mNameError\u001b[0m: name 'linear_model' is not defined"
     ]
    }
   ],
   "source": [
    "X = df['High']\n",
    "y = df[\"Date\"]\n",
    "\n",
    "lm = linear_model.LinearRegression()\n",
    "model = lm.fit(X,y)"
   ]
  },
  {
   "cell_type": "code",
   "execution_count": 30,
   "metadata": {},
   "outputs": [
    {
     "ename": "NameError",
     "evalue": "name 'x1' is not defined",
     "output_type": "error",
     "traceback": [
      "\u001b[0;31m---------------------------------------------------------------------------\u001b[0m",
      "\u001b[0;31mNameError\u001b[0m                                 Traceback (most recent call last)",
      "\u001b[0;32m<ipython-input-30-66b2ccf091ef>\u001b[0m in \u001b[0;36m<module>\u001b[0;34m\u001b[0m\n\u001b[1;32m      1\u001b[0m \u001b[0;32mimport\u001b[0m \u001b[0mstatsmodels\u001b[0m\u001b[0;34m.\u001b[0m\u001b[0mapi\u001b[0m \u001b[0;32mas\u001b[0m \u001b[0msm\u001b[0m\u001b[0;34m\u001b[0m\u001b[0;34m\u001b[0m\u001b[0m\n\u001b[1;32m      2\u001b[0m \u001b[0;34m\u001b[0m\u001b[0m\n\u001b[0;32m----> 3\u001b[0;31m \u001b[0mx\u001b[0m \u001b[0;34m=\u001b[0m \u001b[0msm\u001b[0m\u001b[0;34m.\u001b[0m\u001b[0madd_constant\u001b[0m\u001b[0;34m(\u001b[0m\u001b[0mx1\u001b[0m\u001b[0;34m)\u001b[0m\u001b[0;34m\u001b[0m\u001b[0;34m\u001b[0m\u001b[0m\n\u001b[0m\u001b[1;32m      4\u001b[0m \u001b[0mresults\u001b[0m \u001b[0;34m=\u001b[0m \u001b[0msm\u001b[0m\u001b[0;34m.\u001b[0m\u001b[0mOLS\u001b[0m\u001b[0;34m(\u001b[0m\u001b[0my\u001b[0m\u001b[0;34m,\u001b[0m\u001b[0mx\u001b[0m\u001b[0;34m)\u001b[0m\u001b[0;34m.\u001b[0m\u001b[0mfit\u001b[0m\u001b[0;34m(\u001b[0m\u001b[0;34m)\u001b[0m\u001b[0;34m\u001b[0m\u001b[0;34m\u001b[0m\u001b[0m\n\u001b[1;32m      5\u001b[0m \u001b[0mresults\u001b[0m\u001b[0;34m.\u001b[0m\u001b[0msummary\u001b[0m\u001b[0;34m(\u001b[0m\u001b[0;34m)\u001b[0m\u001b[0;34m\u001b[0m\u001b[0;34m\u001b[0m\u001b[0m\n",
      "\u001b[0;31mNameError\u001b[0m: name 'x1' is not defined"
     ]
    }
   ],
   "source": [
    "import statsmodels.api as sm\n",
    "\n",
    "x = sm.add_constant(x1)\n",
    "results = sm.OLS(y,x).fit()\n",
    "results.summary()"
   ]
  },
  {
   "cell_type": "code",
   "execution_count": 27,
   "metadata": {},
   "outputs": [
    {
     "ename": "ValueError",
     "evalue": "Expected 2D array, got 1D array instead:\narray=[ 55.11235847  53.40227002  42.40831364  44.90251114  47.56953274\n  51.4056548   51.45337431  54.42141763  57.48190422  57.85394649\n  52.08068541  43.90673033  43.07737327  41.7494876   40.9951837\n  36.31907005  37.07820274  39.85692062  42.54665591  42.43970617\n  40.92850939  39.16386433  38.86918184  35.56402236  33.1554836\n  31.98077334  32.90016101  31.0670602   33.92358529  30.06291681\n  28.4330692   32.3030396   40.76907497  51.42799241  54.78636021\n  58.36411095  70.30982523  68.77859822  59.61831483  66.12366042\n  68.37704309  71.17455519  74.0423007   79.56212338  79.21050482\n  80.73120239  82.17322523  76.89173349  74.6597895   73.77057074\n  74.38013135  67.45255654  65.09772852  68.66542935  66.20104081\n  69.56144009  79.46509408  78.86189102  89.93801025  94.06976137\n  92.73576711  91.92059987  92.73346394  94.70016225  91.09876956\n  86.12544951  83.05117464  78.34898133  79.99834299  84.64911414\n  90.85681018  88.7453422   89.48084257  89.47445661  89.77304202\n  96.06858373  89.84421115  87.63337491  85.61030076  84.26820383\n  80.4439646   81.50417507  79.9801058   81.52688405  85.21962997\n  82.70331397  84.9367816   87.6998754   90.34967103  91.77162009\n  92.42910958 111.89987356 119.95772976 119.8851618  125.1173602\n 117.47867697 118.94047169 134.09957064 126.14799918 132.76556292\n 147.4692885  153.16103357 163.0450734  199.42680205 196.80113845\n 197.66044299 206.22215614 198.19886798 193.4189507  194.5527093\n 216.9347528  285.432791   281.03039845 281.71788898 290.40235352\n 305.43170394 306.1231135  316.14377732 317.18857817 306.99053591\n 303.16399672 367.7925718  506.81430279 534.40920329 509.1511721\n 479.95690274 529.13674002 505.94283055 559.12294431 532.93623082\n 542.94300205 542.13536671 508.7522981  494.31787426 477.64167339\n 455.5505286  476.6646223  444.4219644  489.74754408 451.37066675\n 444.67329695 401.64885291 402.91031358 384.70787702 350.86544151\n 349.17849378 354.83655641 386.42742529 411.88731495 413.63810676\n 406.01219067 374.36337845 382.45293835 407.70725033 431.08899622\n 441.17531557 450.25979286 411.65275634 406.41473674 415.92332152\n 408.3292567  389.06925577 375.31807796 379.86463919 380.44649791\n 377.26572726 395.18907025 377.24518434 373.76514507 351.24670306\n 352.32203663 339.01341722 357.86584949 358.32341962 352.82049859\n 365.13390152 377.86398082 385.78006545 385.29872156 408.47991277\n 411.37707798 409.57952347 407.32930559 414.46970107 387.92493727\n 377.93119268 379.18028123 374.97055281 373.37874338 417.72217992\n 419.78904302 430.78858392 485.54265776 469.4293897  460.75462549\n 432.98090609 397.55232068 371.56151091 384.65097732 413.36092629\n 372.51797583 345.91763301 352.25897298 407.97280455 449.01496583\n 486.03671396 462.82557118 452.47550214 510.98177585 506.53124535\n 532.78855889 520.52138233 483.67771305 480.68362397 466.90629457\n 475.35474825 468.57670616 482.42247492 458.75110371 595.82513671\n 619.30596592 631.5928899  610.31494186 562.17659909 593.00508265\n 666.86497857 649.05066157 507.98340686 494.54843714 381.62825652\n 351.11141075 397.06660616 403.74877236 415.08126945 415.19800843\n 376.53136082 335.22437432 338.76706247 385.14911323 392.7743238\n 401.71075971 408.96726025 398.5462218  391.55844855 368.26187716\n 387.64553781 338.99411651 342.55435833 339.40613288 315.07769537\n 288.95290177 317.6083654  336.04014978 326.90090525 313.73855321\n 305.38852265 293.7846042  270.24330455 277.1895489  275.37700258\n 222.89176774 229.66437827 217.90640324 214.82974679 193.11671511\n 202.72034388 232.83439489 252.57564615 252.12111627 251.97441164\n 234.4839565  265.10734206 289.00112414 317.38723388 346.71478017].\nReshape your data either using array.reshape(-1, 1) if your data has a single feature or array.reshape(1, -1) if it contains a single sample.",
     "output_type": "error",
     "traceback": [
      "\u001b[0;31m---------------------------------------------------------------------------\u001b[0m",
      "\u001b[0;31mValueError\u001b[0m                                Traceback (most recent call last)",
      "\u001b[0;32m<ipython-input-27-bc6b95e0e2dc>\u001b[0m in \u001b[0;36m<module>\u001b[0;34m\u001b[0m\n\u001b[1;32m      2\u001b[0m \u001b[0my\u001b[0m \u001b[0;34m=\u001b[0m \u001b[0mdf\u001b[0m\u001b[0;34m[\u001b[0m\u001b[0;34m\"Date\"\u001b[0m\u001b[0;34m]\u001b[0m\u001b[0;34m\u001b[0m\u001b[0;34m\u001b[0m\u001b[0m\n\u001b[1;32m      3\u001b[0m \u001b[0;34m\u001b[0m\u001b[0m\n\u001b[0;32m----> 4\u001b[0;31m \u001b[0mmodel\u001b[0m \u001b[0;34m=\u001b[0m \u001b[0mLinearRegression\u001b[0m\u001b[0;34m(\u001b[0m\u001b[0;34m)\u001b[0m\u001b[0;34m.\u001b[0m\u001b[0mfit\u001b[0m\u001b[0;34m(\u001b[0m\u001b[0mx\u001b[0m\u001b[0;34m,\u001b[0m\u001b[0my\u001b[0m\u001b[0;34m)\u001b[0m\u001b[0;34m\u001b[0m\u001b[0;34m\u001b[0m\u001b[0m\n\u001b[0m",
      "\u001b[0;32m/opt/anaconda3/lib/python3.8/site-packages/sklearn/linear_model/_base.py\u001b[0m in \u001b[0;36mfit\u001b[0;34m(self, X, y, sample_weight)\u001b[0m\n\u001b[1;32m    503\u001b[0m \u001b[0;34m\u001b[0m\u001b[0m\n\u001b[1;32m    504\u001b[0m         \u001b[0mn_jobs_\u001b[0m \u001b[0;34m=\u001b[0m \u001b[0mself\u001b[0m\u001b[0;34m.\u001b[0m\u001b[0mn_jobs\u001b[0m\u001b[0;34m\u001b[0m\u001b[0;34m\u001b[0m\u001b[0m\n\u001b[0;32m--> 505\u001b[0;31m         X, y = self._validate_data(X, y, accept_sparse=['csr', 'csc', 'coo'],\n\u001b[0m\u001b[1;32m    506\u001b[0m                                    y_numeric=True, multi_output=True)\n\u001b[1;32m    507\u001b[0m \u001b[0;34m\u001b[0m\u001b[0m\n",
      "\u001b[0;32m/opt/anaconda3/lib/python3.8/site-packages/sklearn/base.py\u001b[0m in \u001b[0;36m_validate_data\u001b[0;34m(self, X, y, reset, validate_separately, **check_params)\u001b[0m\n\u001b[1;32m    430\u001b[0m                 \u001b[0my\u001b[0m \u001b[0;34m=\u001b[0m \u001b[0mcheck_array\u001b[0m\u001b[0;34m(\u001b[0m\u001b[0my\u001b[0m\u001b[0;34m,\u001b[0m \u001b[0;34m**\u001b[0m\u001b[0mcheck_y_params\u001b[0m\u001b[0;34m)\u001b[0m\u001b[0;34m\u001b[0m\u001b[0;34m\u001b[0m\u001b[0m\n\u001b[1;32m    431\u001b[0m             \u001b[0;32melse\u001b[0m\u001b[0;34m:\u001b[0m\u001b[0;34m\u001b[0m\u001b[0;34m\u001b[0m\u001b[0m\n\u001b[0;32m--> 432\u001b[0;31m                 \u001b[0mX\u001b[0m\u001b[0;34m,\u001b[0m \u001b[0my\u001b[0m \u001b[0;34m=\u001b[0m \u001b[0mcheck_X_y\u001b[0m\u001b[0;34m(\u001b[0m\u001b[0mX\u001b[0m\u001b[0;34m,\u001b[0m \u001b[0my\u001b[0m\u001b[0;34m,\u001b[0m \u001b[0;34m**\u001b[0m\u001b[0mcheck_params\u001b[0m\u001b[0;34m)\u001b[0m\u001b[0;34m\u001b[0m\u001b[0;34m\u001b[0m\u001b[0m\n\u001b[0m\u001b[1;32m    433\u001b[0m             \u001b[0mout\u001b[0m \u001b[0;34m=\u001b[0m \u001b[0mX\u001b[0m\u001b[0;34m,\u001b[0m \u001b[0my\u001b[0m\u001b[0;34m\u001b[0m\u001b[0;34m\u001b[0m\u001b[0m\n\u001b[1;32m    434\u001b[0m \u001b[0;34m\u001b[0m\u001b[0m\n",
      "\u001b[0;32m/opt/anaconda3/lib/python3.8/site-packages/sklearn/utils/validation.py\u001b[0m in \u001b[0;36minner_f\u001b[0;34m(*args, **kwargs)\u001b[0m\n\u001b[1;32m     70\u001b[0m                           FutureWarning)\n\u001b[1;32m     71\u001b[0m         \u001b[0mkwargs\u001b[0m\u001b[0;34m.\u001b[0m\u001b[0mupdate\u001b[0m\u001b[0;34m(\u001b[0m\u001b[0;34m{\u001b[0m\u001b[0mk\u001b[0m\u001b[0;34m:\u001b[0m \u001b[0marg\u001b[0m \u001b[0;32mfor\u001b[0m \u001b[0mk\u001b[0m\u001b[0;34m,\u001b[0m \u001b[0marg\u001b[0m \u001b[0;32min\u001b[0m \u001b[0mzip\u001b[0m\u001b[0;34m(\u001b[0m\u001b[0msig\u001b[0m\u001b[0;34m.\u001b[0m\u001b[0mparameters\u001b[0m\u001b[0;34m,\u001b[0m \u001b[0margs\u001b[0m\u001b[0;34m)\u001b[0m\u001b[0;34m}\u001b[0m\u001b[0;34m)\u001b[0m\u001b[0;34m\u001b[0m\u001b[0;34m\u001b[0m\u001b[0m\n\u001b[0;32m---> 72\u001b[0;31m         \u001b[0;32mreturn\u001b[0m \u001b[0mf\u001b[0m\u001b[0;34m(\u001b[0m\u001b[0;34m**\u001b[0m\u001b[0mkwargs\u001b[0m\u001b[0;34m)\u001b[0m\u001b[0;34m\u001b[0m\u001b[0;34m\u001b[0m\u001b[0m\n\u001b[0m\u001b[1;32m     73\u001b[0m     \u001b[0;32mreturn\u001b[0m \u001b[0minner_f\u001b[0m\u001b[0;34m\u001b[0m\u001b[0;34m\u001b[0m\u001b[0m\n\u001b[1;32m     74\u001b[0m \u001b[0;34m\u001b[0m\u001b[0m\n",
      "\u001b[0;32m/opt/anaconda3/lib/python3.8/site-packages/sklearn/utils/validation.py\u001b[0m in \u001b[0;36mcheck_X_y\u001b[0;34m(X, y, accept_sparse, accept_large_sparse, dtype, order, copy, force_all_finite, ensure_2d, allow_nd, multi_output, ensure_min_samples, ensure_min_features, y_numeric, estimator)\u001b[0m\n\u001b[1;32m    793\u001b[0m         \u001b[0;32mraise\u001b[0m \u001b[0mValueError\u001b[0m\u001b[0;34m(\u001b[0m\u001b[0;34m\"y cannot be None\"\u001b[0m\u001b[0;34m)\u001b[0m\u001b[0;34m\u001b[0m\u001b[0;34m\u001b[0m\u001b[0m\n\u001b[1;32m    794\u001b[0m \u001b[0;34m\u001b[0m\u001b[0m\n\u001b[0;32m--> 795\u001b[0;31m     X = check_array(X, accept_sparse=accept_sparse,\n\u001b[0m\u001b[1;32m    796\u001b[0m                     \u001b[0maccept_large_sparse\u001b[0m\u001b[0;34m=\u001b[0m\u001b[0maccept_large_sparse\u001b[0m\u001b[0;34m,\u001b[0m\u001b[0;34m\u001b[0m\u001b[0;34m\u001b[0m\u001b[0m\n\u001b[1;32m    797\u001b[0m                     \u001b[0mdtype\u001b[0m\u001b[0;34m=\u001b[0m\u001b[0mdtype\u001b[0m\u001b[0;34m,\u001b[0m \u001b[0morder\u001b[0m\u001b[0;34m=\u001b[0m\u001b[0morder\u001b[0m\u001b[0;34m,\u001b[0m \u001b[0mcopy\u001b[0m\u001b[0;34m=\u001b[0m\u001b[0mcopy\u001b[0m\u001b[0;34m,\u001b[0m\u001b[0;34m\u001b[0m\u001b[0;34m\u001b[0m\u001b[0m\n",
      "\u001b[0;32m/opt/anaconda3/lib/python3.8/site-packages/sklearn/utils/validation.py\u001b[0m in \u001b[0;36minner_f\u001b[0;34m(*args, **kwargs)\u001b[0m\n\u001b[1;32m     70\u001b[0m                           FutureWarning)\n\u001b[1;32m     71\u001b[0m         \u001b[0mkwargs\u001b[0m\u001b[0;34m.\u001b[0m\u001b[0mupdate\u001b[0m\u001b[0;34m(\u001b[0m\u001b[0;34m{\u001b[0m\u001b[0mk\u001b[0m\u001b[0;34m:\u001b[0m \u001b[0marg\u001b[0m \u001b[0;32mfor\u001b[0m \u001b[0mk\u001b[0m\u001b[0;34m,\u001b[0m \u001b[0marg\u001b[0m \u001b[0;32min\u001b[0m \u001b[0mzip\u001b[0m\u001b[0;34m(\u001b[0m\u001b[0msig\u001b[0m\u001b[0;34m.\u001b[0m\u001b[0mparameters\u001b[0m\u001b[0;34m,\u001b[0m \u001b[0margs\u001b[0m\u001b[0;34m)\u001b[0m\u001b[0;34m}\u001b[0m\u001b[0;34m)\u001b[0m\u001b[0;34m\u001b[0m\u001b[0;34m\u001b[0m\u001b[0m\n\u001b[0;32m---> 72\u001b[0;31m         \u001b[0;32mreturn\u001b[0m \u001b[0mf\u001b[0m\u001b[0;34m(\u001b[0m\u001b[0;34m**\u001b[0m\u001b[0mkwargs\u001b[0m\u001b[0;34m)\u001b[0m\u001b[0;34m\u001b[0m\u001b[0;34m\u001b[0m\u001b[0m\n\u001b[0m\u001b[1;32m     73\u001b[0m     \u001b[0;32mreturn\u001b[0m \u001b[0minner_f\u001b[0m\u001b[0;34m\u001b[0m\u001b[0;34m\u001b[0m\u001b[0m\n\u001b[1;32m     74\u001b[0m \u001b[0;34m\u001b[0m\u001b[0m\n",
      "\u001b[0;32m/opt/anaconda3/lib/python3.8/site-packages/sklearn/utils/validation.py\u001b[0m in \u001b[0;36mcheck_array\u001b[0;34m(array, accept_sparse, accept_large_sparse, dtype, order, copy, force_all_finite, ensure_2d, allow_nd, ensure_min_samples, ensure_min_features, estimator)\u001b[0m\n\u001b[1;32m    617\u001b[0m             \u001b[0;31m# If input is 1D raise error\u001b[0m\u001b[0;34m\u001b[0m\u001b[0;34m\u001b[0m\u001b[0;34m\u001b[0m\u001b[0m\n\u001b[1;32m    618\u001b[0m             \u001b[0;32mif\u001b[0m \u001b[0marray\u001b[0m\u001b[0;34m.\u001b[0m\u001b[0mndim\u001b[0m \u001b[0;34m==\u001b[0m \u001b[0;36m1\u001b[0m\u001b[0;34m:\u001b[0m\u001b[0;34m\u001b[0m\u001b[0;34m\u001b[0m\u001b[0m\n\u001b[0;32m--> 619\u001b[0;31m                 raise ValueError(\n\u001b[0m\u001b[1;32m    620\u001b[0m                     \u001b[0;34m\"Expected 2D array, got 1D array instead:\\narray={}.\\n\"\u001b[0m\u001b[0;34m\u001b[0m\u001b[0;34m\u001b[0m\u001b[0m\n\u001b[1;32m    621\u001b[0m                     \u001b[0;34m\"Reshape your data either using array.reshape(-1, 1) if \"\u001b[0m\u001b[0;34m\u001b[0m\u001b[0;34m\u001b[0m\u001b[0m\n",
      "\u001b[0;31mValueError\u001b[0m: Expected 2D array, got 1D array instead:\narray=[ 55.11235847  53.40227002  42.40831364  44.90251114  47.56953274\n  51.4056548   51.45337431  54.42141763  57.48190422  57.85394649\n  52.08068541  43.90673033  43.07737327  41.7494876   40.9951837\n  36.31907005  37.07820274  39.85692062  42.54665591  42.43970617\n  40.92850939  39.16386433  38.86918184  35.56402236  33.1554836\n  31.98077334  32.90016101  31.0670602   33.92358529  30.06291681\n  28.4330692   32.3030396   40.76907497  51.42799241  54.78636021\n  58.36411095  70.30982523  68.77859822  59.61831483  66.12366042\n  68.37704309  71.17455519  74.0423007   79.56212338  79.21050482\n  80.73120239  82.17322523  76.89173349  74.6597895   73.77057074\n  74.38013135  67.45255654  65.09772852  68.66542935  66.20104081\n  69.56144009  79.46509408  78.86189102  89.93801025  94.06976137\n  92.73576711  91.92059987  92.73346394  94.70016225  91.09876956\n  86.12544951  83.05117464  78.34898133  79.99834299  84.64911414\n  90.85681018  88.7453422   89.48084257  89.47445661  89.77304202\n  96.06858373  89.84421115  87.63337491  85.61030076  84.26820383\n  80.4439646   81.50417507  79.9801058   81.52688405  85.21962997\n  82.70331397  84.9367816   87.6998754   90.34967103  91.77162009\n  92.42910958 111.89987356 119.95772976 119.8851618  125.1173602\n 117.47867697 118.94047169 134.09957064 126.14799918 132.76556292\n 147.4692885  153.16103357 163.0450734  199.42680205 196.80113845\n 197.66044299 206.22215614 198.19886798 193.4189507  194.5527093\n 216.9347528  285.432791   281.03039845 281.71788898 290.40235352\n 305.43170394 306.1231135  316.14377732 317.18857817 306.99053591\n 303.16399672 367.7925718  506.81430279 534.40920329 509.1511721\n 479.95690274 529.13674002 505.94283055 559.12294431 532.93623082\n 542.94300205 542.13536671 508.7522981  494.31787426 477.64167339\n 455.5505286  476.6646223  444.4219644  489.74754408 451.37066675\n 444.67329695 401.64885291 402.91031358 384.70787702 350.86544151\n 349.17849378 354.83655641 386.42742529 411.88731495 413.63810676\n 406.01219067 374.36337845 382.45293835 407.70725033 431.08899622\n 441.17531557 450.25979286 411.65275634 406.41473674 415.92332152\n 408.3292567  389.06925577 375.31807796 379.86463919 380.44649791\n 377.26572726 395.18907025 377.24518434 373.76514507 351.24670306\n 352.32203663 339.01341722 357.86584949 358.32341962 352.82049859\n 365.13390152 377.86398082 385.78006545 385.29872156 408.47991277\n 411.37707798 409.57952347 407.32930559 414.46970107 387.92493727\n 377.93119268 379.18028123 374.97055281 373.37874338 417.72217992\n 419.78904302 430.78858392 485.54265776 469.4293897  460.75462549\n 432.98090609 397.55232068 371.56151091 384.65097732 413.36092629\n 372.51797583 345.91763301 352.25897298 407.97280455 449.01496583\n 486.03671396 462.82557118 452.47550214 510.98177585 506.53124535\n 532.78855889 520.52138233 483.67771305 480.68362397 466.90629457\n 475.35474825 468.57670616 482.42247492 458.75110371 595.82513671\n 619.30596592 631.5928899  610.31494186 562.17659909 593.00508265\n 666.86497857 649.05066157 507.98340686 494.54843714 381.62825652\n 351.11141075 397.06660616 403.74877236 415.08126945 415.19800843\n 376.53136082 335.22437432 338.76706247 385.14911323 392.7743238\n 401.71075971 408.96726025 398.5462218  391.55844855 368.26187716\n 387.64553781 338.99411651 342.55435833 339.40613288 315.07769537\n 288.95290177 317.6083654  336.04014978 326.90090525 313.73855321\n 305.38852265 293.7846042  270.24330455 277.1895489  275.37700258\n 222.89176774 229.66437827 217.90640324 214.82974679 193.11671511\n 202.72034388 232.83439489 252.57564615 252.12111627 251.97441164\n 234.4839565  265.10734206 289.00112414 317.38723388 346.71478017].\nReshape your data either using array.reshape(-1, 1) if your data has a single feature or array.reshape(1, -1) if it contains a single sample."
     ]
    }
   ],
   "source": [
    "x = df['High']\n",
    "y = df[\"Date\"]\n",
    "\n",
    "model = LinearRegression().fit(x,y)"
   ]
  },
  {
   "cell_type": "code",
   "execution_count": null,
   "metadata": {},
   "outputs": [],
   "source": []
  }
 ],
 "metadata": {
  "kernelspec": {
   "display_name": "Python 3",
   "language": "python",
   "name": "python3"
  },
  "language_info": {
   "codemirror_mode": {
    "name": "ipython",
    "version": 3
   },
   "file_extension": ".py",
   "mimetype": "text/x-python",
   "name": "python",
   "nbconvert_exporter": "python",
   "pygments_lexer": "ipython3",
   "version": "3.8.5"
  }
 },
 "nbformat": 4,
 "nbformat_minor": 4
}
